{
 "cells": [
  {
   "cell_type": "markdown",
   "metadata": {},
   "source": [
    "# Segmentation test\n",
    "\n",
    "Testing `segnet` from ['Hello AI World'](https://github.com/dusty-nv/jetson-inference#hello-ai-world)."
   ]
  },
  {
   "cell_type": "code",
   "execution_count": 1,
   "metadata": {},
   "outputs": [],
   "source": [
    "import cv2\n",
    "import time\n",
    "import ipywidgets\n",
    "import jetson.inference\n",
    "import jetson.utils\n",
    "import numpy as np\n",
    "import traitlets\n",
    "from jetutils import GstCamera, cudaimg_to_jpeg, OUT_AS_RAW_CUDAIMG\n",
    "from IPython.display import display\n",
    "from sidecar import Sidecar"
   ]
  },
  {
   "cell_type": "code",
   "execution_count": 2,
   "metadata": {},
   "outputs": [],
   "source": [
    "camera = GstCamera(output_mode=OUT_AS_RAW_CUDAIMG)"
   ]
  },
  {
   "cell_type": "markdown",
   "metadata": {},
   "source": [
    "Adopt segmentationBuffers from the example do\n",
    "`cp jetson-inference/python/examples/segnet_utils .`"
   ]
  },
  {
   "cell_type": "code",
   "execution_count": 3,
   "metadata": {},
   "outputs": [
    {
     "name": "stdout",
     "output_type": "stream",
     "text": [
      "net initialized in 18.569501876831055 seconds.\n"
     ]
    }
   ],
   "source": [
    "from segnet_utils import segmentationBuffers\n",
    "from collections import namedtuple\n",
    "_ARGS = namedtuple('_ARGS','stats visualize')\n",
    "tic = time.time()\n",
    "net = jetson.inference.segNet('fcn-resnet18-mhp-512x320', [])\n",
    "print('net initialized in {} seconds.'.format(time.time() - tic))\n",
    "buffers = segmentationBuffers(net, _ARGS(True, 'overlay,mask'))"
   ]
  },
  {
   "cell_type": "markdown",
   "metadata": {},
   "source": [
    "We can use plotly to visualise internals like object type histogram in this example.\n",
    "Matplotlib appeared to be way too sluggish to be updated in real time loops."
   ]
  },
  {
   "cell_type": "code",
   "execution_count": 4,
   "metadata": {},
   "outputs": [],
   "source": [
    "import math\n",
    "import os.path\n",
    "import plotly.graph_objects as plt_go\n",
    "# TODO: move this to library\n",
    "class HistogramPlot:\n",
    "    # plots item histogram, skipping background (0)\n",
    "    def __init__(self, nnet, freq_secs=1):\n",
    "        #get colors from colors file associated to network\n",
    "        colors = open(os.path.join(os.path.dirname(nnet.GetModelPath()), 'colors.txt'),'r').readlines()[1:]\n",
    "        colors = ['rgb({})'.format(','.join(c.strip().split())) for c in colors]\n",
    "\n",
    "        self._classes = nnet.GetNumClasses() - 1 # we skip background here\n",
    "        self._labels = [nnet.GetClassDesc(i+1) for i in range(0, self._classes)]\n",
    "        self._update_freq = freq_secs\n",
    "        self._tic = time.time()\n",
    "        self._n = 0\n",
    "        self._buffer = np.zeros((self._classes,), dtype=int)\n",
    "        self.fig_out = plt_go.FigureWidget(data=[plt_go.Bar(x=self._labels,\n",
    "                                                       y=np.zeros((self._classes,), dtype=int),\n",
    "                                                      marker_color=colors)],\n",
    "                                           layout={'yaxis':  {\n",
    "                                                              'range': [0, math.log(\n",
    "                                                                           nnet.GetGridWidth() *\n",
    "                                                                           nnet.GetGridHeight(), 10)],\n",
    "                                                             'type': 'log',\n",
    "                                                            }}\n",
    "                                          )\n",
    "        \n",
    "    def update(self, data):\n",
    "        # display averages over update frequence\n",
    "        self._buffer = np.add(self._buffer, data[1:])\n",
    "        self._n += 1\n",
    "        if time.time() - self._tic >= self._update_freq:\n",
    "            self._tic = time.time()\n",
    "            with self.fig_out.batch_animate(duration=150):\n",
    "                self.fig_out.data[0].y = self._buffer / (self._n or 1)\n",
    "            self._buffer = np.zeros((self._classes,), dtype=int)\n",
    "            self._n = 0\n",
    "\n",
    "histogram_out = HistogramPlot(net)"
   ]
  },
  {
   "cell_type": "markdown",
   "metadata": {},
   "source": [
    "Lets use ipywidgets sidecar to display both original camera input and output from network, with some controls and debug data output."
   ]
  },
  {
   "cell_type": "code",
   "execution_count": 5,
   "metadata": {},
   "outputs": [],
   "source": [
    "image_original = ipywidgets.Image(format='jpeg', width=camera.width, height=camera.height)\n",
    "image_processed = ipywidgets.Image(format='jpeg', width=camera.width, height=camera.height)\n",
    "\n",
    "debug_out = ipywidgets.Textarea(value=\"-\"*80, disabled=True,\n",
    "                               layout=ipywidgets.Layout(width='640px', height='520px'))\n",
    "images_out = ipywidgets.HBox([image_original, image_processed])\n",
    "alpha_slider = ipywidgets.IntSlider(value=150, min=0, max=255,\n",
    "                                    description='overlay alpha',\n",
    "                                    style={'description_width': 'initial'})\n",
    "select_outmode = ipywidgets.ToggleButtons(options=['mask', 'overlay'],\n",
    "                                     value='overlay', description='output mode',\n",
    "                                     style={'description_width': 'initial'})\n",
    "select_mask = ipywidgets.ToggleButton(value=True, description='mask')\n",
    "select_overlay = ipywidgets.ToggleButton(value=True, description='overlay')\n",
    "\n",
    "select_filter = ipywidgets.ToggleButtons(options=['point', 'linear'],\n",
    "                                     value='point', description='filter',\n",
    "                                     style={'description_width': 'initial'})\n",
    "camera.read()\n",
    "traitlets.dlink((camera, 'value'), (image_original, 'value'),\n",
    "                transform=lambda x: cudaimg_to_jpeg(x, camera.width, camera.height))\n",
    "\n",
    "ctrl_box = ipywidgets.HBox([ipywidgets.Label(value='output'),\n",
    "                            select_mask,\n",
    "                            select_overlay,\n",
    "                            alpha_slider,\n",
    "                            select_filter])\n",
    "misc_box = ipywidgets.HBox([debug_out, histogram_out.fig_out])\n",
    "all_box = ipywidgets.VBox([images_out, ctrl_box, misc_box])\n",
    "_sidecar = Sidecar(title='output')\n",
    "with _sidecar:\n",
    "    display(all_box)"
   ]
  },
  {
   "cell_type": "markdown",
   "metadata": {},
   "source": [
    "Get detected segments overlay and mask. Play with controls."
   ]
  },
  {
   "cell_type": "code",
   "execution_count": null,
   "metadata": {},
   "outputs": [],
   "source": [
    "import IPython\n",
    "ipython = IPython.get_ipython()\n",
    "\n",
    "while True:\n",
    "    ipython.kernel.do_one_iteration()\n",
    "    net.SetOverlayAlpha(float(alpha_slider.value))\n",
    "    # ugly way to set these directly, but..\n",
    "    buffers.use_overlay = bool(select_overlay.value)\n",
    "    alpha_slider.disabled = not select_overlay.value\n",
    "    buffers.use_mask = bool(select_mask.value)\n",
    "    buffers.use_composite = buffers.use_mask and buffers.use_overlay\n",
    "    \n",
    "    tic = time.time()\n",
    "    frame = camera.read()\n",
    "    if not buffers.use_mask and not buffers.use_overlay:\n",
    "        image_processed.value = cudaimg_to_jpeg(frame, camera.width, camera.height)\n",
    "        debug_out.value = 'not processing'\n",
    "        continue\n",
    "\n",
    "    buffers.Alloc(frame.shape, frame.format)\n",
    "    net.Process(frame)\n",
    "\n",
    "    if buffers.overlay:\n",
    "        net.Overlay(buffers.overlay, filter_mode=select_filter.value)\n",
    "\n",
    "    if buffers.mask:\n",
    "        net.Mask(buffers.mask, filter_mode=select_filter.value)\n",
    "\n",
    "    if buffers.composite:\n",
    "        jetson.utils.cudaOverlay(buffers.overlay, buffers.composite, 0, 0)\n",
    "        jetson.utils.cudaOverlay(buffers.mask, buffers.composite, buffers.overlay.width, 0)\n",
    "\n",
    "    net.Mask(buffers.class_mask, buffers.grid_width, buffers.grid_height)\n",
    "    class_histogram, _ = np.histogram(buffers.class_mask_np, buffers.num_classes)\n",
    "    histogram_out.update(class_histogram)\n",
    "    fps = 1.0 / (time.time() - tic)\n",
    "        \n",
    "    _s_fps = 'fps: {}'.format(fps)\n",
    "    _s_nfps ='net fps: {}'.format(net.GetNetworkFPS())\n",
    "    _s_grid = 'grid size: {:d}x{:d}'.format(buffers.grid_width, buffers.grid_height)\n",
    "    _s_ccount = 'class count: {:d}'.format(buffers.num_classes)\n",
    "    _s_rows = [_s_fps, _s_nfps, _s_grid, _s_ccount,\n",
    "               '-----------------------------------------',\n",
    "               ' ID  class name         count          % ',\n",
    "               '-----------------------------------------']\n",
    "    for n in range(buffers.num_classes):\n",
    "        percentage = float(class_histogram[n]) / float(buffers.grid_width * buffers.grid_height)\n",
    "        _s_rows.append(' {:>2d}  {:<20s} {:>3d}   {:f}'.format(n,\n",
    "                                                               net.GetClassDesc(n),\n",
    "                                                               class_histogram[n],\n",
    "                                                               percentage))\n",
    "    debug_out.value = '\\n'.join(_s_rows)\n",
    "\n",
    "    image_processed.value = cudaimg_to_jpeg(buffers.output, camera.width, camera.height)"
   ]
  },
  {
   "cell_type": "code",
   "execution_count": 9,
   "metadata": {},
   "outputs": [
    {
     "name": "stdout",
     "output_type": "stream",
     "text": [
      "fps 18.48509047959031 network fps 34.88182067871094\n"
     ]
    }
   ],
   "source": [
    "# with this setup frame rate stays bearable\n",
    "print('fps', fps, 'network fps', net.GetNetworkFPS())"
   ]
  },
  {
   "cell_type": "markdown",
   "metadata": {},
   "source": [
    "After interrupting kernel clean up to free gstreamer resources\n",
    "if this is not done each time gstreamer ends up in situation where either reboot \n",
    "or service restart is needed."
   ]
  },
  {
   "cell_type": "code",
   "execution_count": 10,
   "metadata": {},
   "outputs": [],
   "source": [
    "del camera\n",
    "del net"
   ]
  }
 ],
 "metadata": {
  "kernelspec": {
   "display_name": "Python 3",
   "language": "python",
   "name": "python3"
  },
  "language_info": {
   "codemirror_mode": {
    "name": "ipython",
    "version": 3
   },
   "file_extension": ".py",
   "mimetype": "text/x-python",
   "name": "python",
   "nbconvert_exporter": "python",
   "pygments_lexer": "ipython3",
   "version": "3.6.9"
  }
 },
 "nbformat": 4,
 "nbformat_minor": 4
}
