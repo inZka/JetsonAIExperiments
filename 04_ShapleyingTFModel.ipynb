{
 "cells": [
  {
   "cell_type": "markdown",
   "metadata": {},
   "source": [
    "# TODO \n",
    "use xxx model from [TensorFlow detection zoo](https://github.com/tensorflow/models/blob/master/research/object_detection/g3doc/tf2_detection_zoo.md)\n",
    "And analyse it."
   ]
  },
  {
   "cell_type": "markdown",
   "metadata": {},
   "source": [
    "### Prerequirements\n",
    "Prerequirement for this is TensorFlow 2.X and object_detection API installed\n",
    "```bash\n",
    "git clone https://github.com/tensorflow/models.git tf_models\n",
    "cd tf_models/research\n",
    "protoc object_detection/protos/*.proto --python_out=.\n",
    "cp object_detection/packages/tf2/setup.py .\n",
    "sudo pip3 install .\n",
    "````\n"
   ]
  },
  {
   "cell_type": "code",
   "execution_count": 2,
   "metadata": {},
   "outputs": [],
   "source": [
    "import os\n",
    "import tensorflow as tf\n",
    "import numpy as np\n",
    "\n",
    "from jetutils import SimpleTimer"
   ]
  },
  {
   "cell_type": "markdown",
   "metadata": {},
   "source": [
    "First download and convert a TensorFlow object detection pretrained model. This takes significant amount of time\n",
    "\n",
    "Like: `\n",
    "model converted in 823.534474207 seconds`\n"
   ]
  },
  {
   "cell_type": "code",
   "execution_count": null,
   "metadata": {},
   "outputs": [],
   "source": [
    "MODEL_URL = 'http://download.tensorflow.org/models/object_detection/tf2/20200711/ssd_mobilenet_v2_320x320_coco17_tpu-8.tar.gz'\n",
    "MODEL_NAME = MODEL_URL.split('/')[-1].split('.')[0]\n",
    "MODEL_PATH = './models/{}'.format(MODEL_NAME)\n",
    "TRT_MODEL_PATH ='./models/{}_trt'.format(MODEL_NAME)\n",
    "\n",
    "\n",
    "if not os.path.exists(MODEL_PATH):\n",
    "    import subprocess\n",
    "    subprocess.call(['wget', MODEL_URL, '-O', '{}.tgz'.format(MODEL_PATH)])\n",
    "    subprocess.call(['tar', '-xzf', '{}.tgz'.format(MODEL_PATH), '-C', './models'])\n",
    "\n",
    "if not os.path.exists(TRT_MODEL_PATH):\n",
    "    from tensorflow.python.compiler.tensorrt import trt_convert as trt\n",
    "    from jetutils import CAPTURE_WIDTH, CAPTURE_HEIGHT\n",
    "    BATCH_SIZE = 1\n",
    "    ITERATIONS = 10\n",
    "    for gpu in tf.config.experimental.list_physical_devices('GPU'):\n",
    "        print(gpu)\n",
    "        tf.config.experimental.set_memory_growth(gpu, True)\n",
    "\n",
    "    conversion_params = trt.DEFAULT_TRT_CONVERSION_PARAMS\n",
    "    conversion_params = conversion_params._replace(precision_mode=trt.TrtPrecisionMode.FP16)\n",
    "    conversion_params = conversion_params._replace(minimum_segment_size=50)\n",
    "    conversion_params = conversion_params._replace(max_batch_size=BATCH_SIZE)\n",
    "  \n",
    "    def get_dataset(batch_size, input_h, input_w):\n",
    "        features = np.random.normal(loc=112, scale=70,\n",
    "              size=(batch_size, input_h, input_w, 3)).astype(np.float32)\n",
    "        features = np.clip(features, 0.0, 255.0).astype(np.uint8)\n",
    "        features = tf.convert_to_tensor(value=tf.compat.v1.get_variable(\n",
    "            \"features\", initializer=tf.constant(features)))\n",
    "        dataset = tf.data.Dataset.from_tensor_slices([features])\n",
    "        dataset = dataset.repeat()\n",
    "        return dataset\n",
    "\n",
    "    def input_fn():\n",
    "        dataset = get_dataset(BATCH_SIZE, CAPTURE_HEIGHT, CAPTURE_WIDTH)\n",
    "        for i, batch in enumerate(dataset):\n",
    "            if i > ITERATIONS:\n",
    "                break\n",
    "            yield (batch,)\n",
    "            print(' step {}'.format(i+1))\n",
    "\n",
    "    converter = trt.TrtGraphConverterV2(\n",
    "        input_saved_model_dir='{}/saved_model'.format(MODEL_PATH),\n",
    "        conversion_params=conversion_params)\n",
    "\n",
    "    timer = SimpleTimer()\n",
    "    print('converting...')\n",
    "    with timer:\n",
    "        converter.convert()\n",
    "    print('model converted in {} seconds'.format(timer.time))\n",
    "    print('building...')\n",
    "    with timer:\n",
    "        converter.build(input_fn=input_fn)\n",
    "    print('model engine build in {} seconds'.format(timer.time))\n",
    "    converter.save(TRT_MODEL_PATH)\n",
    "    "
   ]
  },
  {
   "cell_type": "code",
   "execution_count": null,
   "metadata": {},
   "outputs": [],
   "source": []
  }
 ],
 "metadata": {
  "kernelspec": {
   "display_name": "Python 3",
   "language": "python",
   "name": "python3"
  },
  "language_info": {
   "codemirror_mode": {
    "name": "ipython",
    "version": 3
   },
   "file_extension": ".py",
   "mimetype": "text/x-python",
   "name": "python",
   "nbconvert_exporter": "python",
   "pygments_lexer": "ipython3",
   "version": "3.6.9"
  }
 },
 "nbformat": 4,
 "nbformat_minor": 4
}
