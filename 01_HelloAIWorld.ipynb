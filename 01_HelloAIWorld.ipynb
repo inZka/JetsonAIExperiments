{
 "cells": [
  {
   "cell_type": "markdown",
   "metadata": {},
   "source": [
    "# Hello AI World\n",
    "\n",
    "This is `detectnet` example from ['Hello AI World'](https://github.com/dusty-nv/jetson-inference#hello-ai-world) as Jupyter Notebook."
   ]
  },
  {
   "cell_type": "code",
   "execution_count": null,
   "metadata": {},
   "outputs": [],
   "source": [
    "import cv2\n",
    "import time\n",
    "import ipywidgets\n",
    "import jetson.inference\n",
    "import numpy as np\n",
    "import traitlets\n",
    "from jetutils import GstCamera, cudaimg_to_jpeg, OUT_AS_RAW_CUDAIMG\n",
    "from IPython.display import display\n",
    "from sidecar import Sidecar"
   ]
  },
  {
   "cell_type": "code",
   "execution_count": null,
   "metadata": {},
   "outputs": [],
   "source": [
    "camera = GstCamera(output_mode=OUT_AS_RAW_CUDAIMG)"
   ]
  },
  {
   "cell_type": "code",
   "execution_count": null,
   "metadata": {},
   "outputs": [],
   "source": [
    "tic = time.time()\n",
    "net = jetson.inference.detectNet('ssd-mobilenet-v2', [], 0.5)\n",
    "print('net initialized in {} seconds.'.format(time.time() - tic))"
   ]
  },
  {
   "cell_type": "markdown",
   "metadata": {},
   "source": [
    "Lets use ipywidgets sidecar to display both original camera input and output from detection network and some debugging information."
   ]
  },
  {
   "cell_type": "code",
   "execution_count": null,
   "metadata": {},
   "outputs": [],
   "source": [
    "image_original = ipywidgets.Image(format='jpeg', width=camera.width, height=camera.height)\n",
    "image_processed = ipywidgets.Image(format='jpeg', width=camera.width, height=camera.height)\n",
    "\n",
    "debug_out = ipywidgets.Textarea(value=\"-\"*80, disabled=True,\n",
    "                               layout=ipywidgets.Layout(width='1280px'))\n",
    "images_out = ipywidgets.HBox([image_original, image_processed])\n",
    "confidence_slider = ipywidgets.IntSlider(value=50, min=0, max=100,\n",
    "                                         description='confidence threshold',\n",
    "                                         style={'description_width': 'initial'})\n",
    "camera.read()\n",
    "\n",
    "traitlets.dlink((camera, 'value'), (image_original, 'value'),\n",
    "                transform=lambda x: cudaimg_to_jpeg(x, camera.width, camera.height))\n",
    "\n",
    "control_box = ipywidgets.VBox([images_out, confidence_slider, debug_out])\n",
    "\n",
    "_sidecar = Sidecar(title='output')\n",
    "with _sidecar:\n",
    "    display(control_box)"
   ]
  },
  {
   "cell_type": "markdown",
   "metadata": {},
   "source": [
    "Then simply capture and overlay detections with the detection net."
   ]
  },
  {
   "cell_type": "code",
   "execution_count": null,
   "metadata": {},
   "outputs": [],
   "source": [
    "import IPython\n",
    "ipython = IPython.get_ipython()\n",
    "while True:\n",
    "    ipython.kernel.do_one_iteration()\n",
    "    net.SetThreshold(float(confidence_slider.value/100))\n",
    "    tic = time.time()\n",
    "    frame = camera.read()\n",
    "    detections = net.Detect(frame, overlay='box,labels')\n",
    "    fps = 1.0 / (time.time() - tic )\n",
    "    debug_out.value = 'fps {}\\nfps(detectnet) {}\\n{}'.format(fps, \n",
    "                                                             net.GetNetworkFPS(),\n",
    "                                                             ''.join(['{}: {} ({})\\n'.format(x.Instance,\n",
    "                                                                                             net.GetClassDesc(x.ClassID),\n",
    "                                                                                             x.Confidence) \n",
    "                                                                      for x in detections]\n",
    "                                                                    )\n",
    "                                                             )\n",
    "    image_processed.value = cudaimg_to_jpeg(frame, camera.width, camera.height)"
   ]
  },
  {
   "cell_type": "markdown",
   "metadata": {},
   "source": [
    "After interrupting kernel clean up"
   ]
  },
  {
   "cell_type": "code",
   "execution_count": null,
   "metadata": {},
   "outputs": [],
   "source": [
    "del camera\n",
    "del net"
   ]
  },
  {
   "cell_type": "code",
   "execution_count": null,
   "metadata": {},
   "outputs": [],
   "source": []
  }
 ],
 "metadata": {
  "kernelspec": {
   "display_name": "Python 3",
   "language": "python",
   "name": "python3"
  },
  "language_info": {
   "codemirror_mode": {
    "name": "ipython",
    "version": 3
   },
   "file_extension": ".py",
   "mimetype": "text/x-python",
   "name": "python",
   "nbconvert_exporter": "python",
   "pygments_lexer": "ipython3",
   "version": "3.6.9"
  }
 },
 "nbformat": 4,
 "nbformat_minor": 4
}
